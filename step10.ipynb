{
 "cells": [
  {
   "cell_type": "code",
   "execution_count": 3,
   "metadata": {
    "collapsed": true
   },
   "outputs": [],
   "source": [
    "## 단위 테스트\n",
    "import unittest\n",
    "import numpy as np"
   ]
  },
  {
   "cell_type": "code",
   "execution_count": 5,
   "outputs": [],
   "source": [
    "class Variable:\n",
    "    def __init__(self, data):\n",
    "        if data is not None:\n",
    "            if not isinstance(data, np.ndarray):\n",
    "                raise TypeError('{} is not supported'.format(type(data)))\n",
    "\n",
    "        self.data = data\n",
    "        self.grad = None\n",
    "        self.creator = None\n",
    "\n",
    "    def set_creator(self, func):\n",
    "        self.creator = func\n",
    "\n",
    "    def backward(self):\n",
    "        if self.grad is None:\n",
    "            self.grad = np.ones_like(self.data)\n",
    "\n",
    "        funcs = [self.creator]\n",
    "        while funcs:\n",
    "            f = funcs.pop()\n",
    "            x, y = f.input, f.output\n",
    "            x.grad = f.backward(y.grad)\n",
    "\n",
    "            if x.creator is not None:\n",
    "                funcs.append(x.creator)"
   ],
   "metadata": {
    "collapsed": false
   }
  },
  {
   "cell_type": "code",
   "execution_count": 6,
   "outputs": [],
   "source": [
    "def as_array(x):\n",
    "    if np.isscalar(x):\n",
    "        return np.array(x)\n",
    "    return x\n"
   ],
   "metadata": {
    "collapsed": false
   }
  },
  {
   "cell_type": "code",
   "execution_count": 7,
   "outputs": [],
   "source": [
    "class Function:\n",
    "    def __call__(self, input):\n",
    "        x = input.data\n",
    "        y = self.forward(x)\n",
    "        output = Variable(as_array(y))\n",
    "        output.set_creator(self)\n",
    "        self.input = input\n",
    "        self.output = output\n",
    "        return output\n",
    "\n",
    "    def forward(self, x):\n",
    "        raise NotImplementedError()\n",
    "\n",
    "    def backward(self, gy):\n",
    "        raise NotImplementedError()\n",
    "\n",
    "\n",
    "class Square(Function):\n",
    "    def forward(self, x):\n",
    "        y = x ** 2\n",
    "        return y\n",
    "\n",
    "    def backward(self, gy):\n",
    "        x = self.input.data\n",
    "        gx = 2 * x * gy\n",
    "        return gx\n",
    "\n",
    "\n",
    "def square(x):\n",
    "    return Square()(x)"
   ],
   "metadata": {
    "collapsed": false
   }
  },
  {
   "cell_type": "code",
   "execution_count": 10,
   "outputs": [],
   "source": [
    "class SquareTest(unittest.TestCase):\n",
    "    def test_forward(self): # 테스트할 때는 test로 시작하는 메서드를 만들어야 한다.\n",
    "        x = Variable(np.array(2.0))\n",
    "        y = square(x)\n",
    "        expected = np.array(4.0)\n",
    "        self.assertEqual(y.data, expected)"
   ],
   "metadata": {
    "collapsed": false
   }
  },
  {
   "cell_type": "code",
   "execution_count": null,
   "outputs": [],
   "source": [],
   "metadata": {
    "collapsed": false
   }
  }
 ],
 "metadata": {
  "kernelspec": {
   "display_name": "Python 3",
   "language": "python",
   "name": "python3"
  },
  "language_info": {
   "codemirror_mode": {
    "name": "ipython",
    "version": 2
   },
   "file_extension": ".py",
   "mimetype": "text/x-python",
   "name": "python",
   "nbconvert_exporter": "python",
   "pygments_lexer": "ipython2",
   "version": "2.7.6"
  }
 },
 "nbformat": 4,
 "nbformat_minor": 0
}
